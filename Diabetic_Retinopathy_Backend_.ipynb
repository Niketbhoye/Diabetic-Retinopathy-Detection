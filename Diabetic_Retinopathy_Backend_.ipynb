{
  "cells": [
    {
      "cell_type": "markdown",
      "metadata": {
        "id": "view-in-github",
        "colab_type": "text"
      },
      "source": [
        "<a href=\"https://colab.research.google.com/github/Niketbhoye/Diabetic-Retinopathy-Detection/blob/main/Diabetic_Retinopathy_Backend_.ipynb\" target=\"_parent\"><img src=\"https://colab.research.google.com/assets/colab-badge.svg\" alt=\"Open In Colab\"/></a>"
      ]
    },
    {
      "cell_type": "markdown",
      "metadata": {
        "id": "WpCAghxa4kHv"
      },
      "source": [
        "Attach Drive to colab"
      ]
    },
    {
      "cell_type": "code",
      "execution_count": null,
      "metadata": {
        "colab": {
          "base_uri": "https://localhost:8080/"
        },
        "id": "twDQKnakwjaG",
        "outputId": "ed35d02b-0db5-42a1-ccdd-784b546a4c9b"
      },
      "outputs": [
        {
          "name": "stdout",
          "output_type": "stream",
          "text": [
            "Mounted at /content/drive\n"
          ]
        }
      ],
      "source": [
        "from google.colab import drive\n",
        "drive.mount('/content/drive')"
      ]
    },
    {
      "cell_type": "code",
      "execution_count": null,
      "metadata": {
        "colab": {
          "base_uri": "https://localhost:8080/",
          "height": 141
        },
        "id": "QEpsqowe8Dc7",
        "outputId": "b57e9a03-7c59-48d2-c701-b2b5efb1e83b"
      },
      "outputs": [
        {
          "ename": "NameError",
          "evalue": "name 'load_model' is not defined",
          "output_type": "error",
          "traceback": [
            "\u001b[0;31m---------------------------------------------------------------------------\u001b[0m",
            "\u001b[0;31mNameError\u001b[0m                                 Traceback (most recent call last)",
            "\u001b[0;32m<ipython-input-3-cd5d01c4f27f>\u001b[0m in \u001b[0;36m<cell line: 1>\u001b[0;34m()\u001b[0m\n\u001b[0;32m----> 1\u001b[0;31m \u001b[0mmodel\u001b[0m \u001b[0;34m=\u001b[0m \u001b[0mload_model\u001b[0m\u001b[0;34m(\u001b[0m\u001b[0;34m'/content/drive/MyDrive/Copy_of_retina_weights.h5'\u001b[0m\u001b[0;34m)\u001b[0m\u001b[0;34m\u001b[0m\u001b[0;34m\u001b[0m\u001b[0m\n\u001b[0m",
            "\u001b[0;31mNameError\u001b[0m: name 'load_model' is not defined"
          ]
        }
      ],
      "source": [
        "model = load_model('/content/drive/MyDrive/Copy_of_retina_weights.h5')"
      ]
    },
    {
      "cell_type": "markdown",
      "metadata": {
        "id": "H9byz3uA4eA9"
      },
      "source": [
        "# **For Single Model**"
      ]
    },
    {
      "cell_type": "code",
      "execution_count": null,
      "metadata": {
        "colab": {
          "base_uri": "https://localhost:8080/"
        },
        "id": "RmV0aYmwYQNK",
        "outputId": "e9326daf-b212-4741-f196-5f7a54ebd443"
      },
      "outputs": [
        {
          "name": "stdout",
          "output_type": "stream",
          "text": [
            "Requirement already satisfied: flask in /usr/local/lib/python3.10/dist-packages (3.0.3)\n",
            "Requirement already satisfied: flask-cors in /usr/local/lib/python3.10/dist-packages (5.0.0)\n",
            "Requirement already satisfied: pyngrok in /usr/local/lib/python3.10/dist-packages (7.2.1)\n",
            "Requirement already satisfied: Werkzeug>=3.0.0 in /usr/local/lib/python3.10/dist-packages (from flask) (3.1.3)\n",
            "Requirement already satisfied: Jinja2>=3.1.2 in /usr/local/lib/python3.10/dist-packages (from flask) (3.1.4)\n",
            "Requirement already satisfied: itsdangerous>=2.1.2 in /usr/local/lib/python3.10/dist-packages (from flask) (2.2.0)\n",
            "Requirement already satisfied: click>=8.1.3 in /usr/local/lib/python3.10/dist-packages (from flask) (8.1.7)\n",
            "Requirement already satisfied: blinker>=1.6.2 in /usr/local/lib/python3.10/dist-packages (from flask) (1.9.0)\n",
            "Requirement already satisfied: PyYAML>=5.1 in /usr/local/lib/python3.10/dist-packages (from pyngrok) (6.0.2)\n",
            "Requirement already satisfied: MarkupSafe>=2.0 in /usr/local/lib/python3.10/dist-packages (from Jinja2>=3.1.2->flask) (3.0.2)\n"
          ]
        },
        {
          "name": "stderr",
          "output_type": "stream",
          "text": [
            "WARNING:absl:Compiled the loaded model, but the compiled metrics have yet to be built. `model.compile_metrics` will be empty until you train or evaluate the model.\n",
            "WARNING:absl:Error in loading the saved optimizer state. As a result, your model is starting with a freshly initialized optimizer.\n"
          ]
        },
        {
          "name": "stdout",
          "output_type": "stream",
          "text": [
            "Flask app is running publicly on: NgrokTunnel: \"https://230d-34-13-140-49.ngrok-free.app\" -> \"http://localhost:5000\"\n",
            " * Serving Flask app '__main__'\n",
            " * Debug mode: off\n"
          ]
        },
        {
          "name": "stderr",
          "output_type": "stream",
          "text": [
            "INFO:werkzeug:\u001b[31m\u001b[1mWARNING: This is a development server. Do not use it in a production deployment. Use a production WSGI server instead.\u001b[0m\n",
            " * Running on all addresses (0.0.0.0)\n",
            " * Running on http://127.0.0.1:5000\n",
            " * Running on http://172.28.0.12:5000\n",
            "INFO:werkzeug:\u001b[33mPress CTRL+C to quit\u001b[0m\n",
            "INFO:werkzeug:127.0.0.1 - - [01/Dec/2024 09:17:29] \"\u001b[33mPOST / HTTP/1.1\u001b[0m\" 404 -\n"
          ]
        }
      ],
      "source": [
        "\n",
        "!pip install flask flask-cors pyngrok\n",
        "\n",
        "import numpy as np\n",
        "from flask import Flask, request, jsonify\n",
        "from flask_cors import CORS\n",
        "import tensorflow as tf\n",
        "from tensorflow.keras.models import load_model\n",
        "from PIL import Image\n",
        "import io\n",
        "from pyngrok import ngrok\n",
        "\n",
        "# ngrok authtoken\n",
        "ngrok.set_auth_token('2nNH8hsrTuUrsY59lNOx4IIqCuN_7fNAZgdFT85EnVRuiHj7N')  #actual token\n",
        "\n",
        "# Load the trained model (copy_of_retina_weights.h)\n",
        "model = load_model('/content/drive/MyDrive/Copy_of_retina_weights.h5')\n",
        "\n",
        "# Preprocess the image\n",
        "def preprocess_image(image_bytes):\n",
        "    image = Image.open(io.BytesIO(image_bytes))\n",
        "    image = image.resize((256, 256))\n",
        "    image = np.array(image) / 255.0  # Normalize image\n",
        "    image = np.expand_dims(image, axis=0)  # Add batch dimension\n",
        "    return image\n",
        "\n",
        "app = Flask(__name__)\n",
        "CORS(app)  # Enable CORS to allow requests from React frontend\n",
        "@app.route('/predict', methods=['POST'])\n",
        "def predict():\n",
        "    try:\n",
        "        if 'image' not in request.files:\n",
        "            return jsonify({'error': 'No image provided'}), 400\n",
        "\n",
        "        image_file = request.files['image']\n",
        "        image_bytes = image_file.read()\n",
        "        input_image = preprocess_image(image_bytes)\n",
        "\n",
        "        # Make prediction\n",
        "        prediction = model.predict(input_image)\n",
        "        predicted_class = np.argmax(prediction, axis=1)[0]\n",
        "\n",
        "        # Map predicted class to the actual category name\n",
        "        class_names = [\"Mild\", \"Moderate\", \"NO_DR\", \"Proliferate_DR\", \"Severe\"]\n",
        "        category = class_names[predicted_class]\n",
        "\n",
        "        return jsonify({'prediction': category})\n",
        "\n",
        "    except Exception as e:\n",
        "        return jsonify({'error': str(e)}), 500  # Returns the error message\n",
        "\n",
        "\n",
        "if __name__ == '__main__':\n",
        "    public_url = ngrok.connect(5000)  # Expose the Flask app on port 5000\n",
        "    print(f\"Flask app is running publicly on: {public_url}\")\n",
        "    app.run(host='0.0.0.0', port=5000)\n"
      ]
    },
    {
      "cell_type": "markdown",
      "metadata": {
        "id": "Pk24sV-z4Tcz"
      },
      "source": [
        "# **For Multi Model**"
      ]
    },
    {
      "cell_type": "code",
      "execution_count": null,
      "metadata": {
        "colab": {
          "background_save": true,
          "base_uri": "https://localhost:8080/"
        },
        "id": "BQTw40LLGo2I",
        "outputId": "a6b93d52-9742-4c49-863a-f63372499f3b"
      },
      "outputs": [
        {
          "name": "stdout",
          "output_type": "stream",
          "text": [
            "Requirement already satisfied: flask in /usr/local/lib/python3.10/dist-packages (3.0.3)\n",
            "Collecting flask-cors\n",
            "  Downloading Flask_Cors-5.0.0-py2.py3-none-any.whl.metadata (5.5 kB)\n",
            "Collecting pyngrok\n",
            "  Downloading pyngrok-7.2.1-py3-none-any.whl.metadata (8.3 kB)\n",
            "Requirement already satisfied: Werkzeug>=3.0.0 in /usr/local/lib/python3.10/dist-packages (from flask) (3.1.3)\n",
            "Requirement already satisfied: Jinja2>=3.1.2 in /usr/local/lib/python3.10/dist-packages (from flask) (3.1.4)\n",
            "Requirement already satisfied: itsdangerous>=2.1.2 in /usr/local/lib/python3.10/dist-packages (from flask) (2.2.0)\n",
            "Requirement already satisfied: click>=8.1.3 in /usr/local/lib/python3.10/dist-packages (from flask) (8.1.7)\n",
            "Requirement already satisfied: blinker>=1.6.2 in /usr/local/lib/python3.10/dist-packages (from flask) (1.9.0)\n",
            "Requirement already satisfied: PyYAML>=5.1 in /usr/local/lib/python3.10/dist-packages (from pyngrok) (6.0.2)\n",
            "Requirement already satisfied: MarkupSafe>=2.0 in /usr/local/lib/python3.10/dist-packages (from Jinja2>=3.1.2->flask) (3.0.2)\n",
            "Downloading Flask_Cors-5.0.0-py2.py3-none-any.whl (14 kB)\n",
            "Downloading pyngrok-7.2.1-py3-none-any.whl (22 kB)\n",
            "Installing collected packages: pyngrok, flask-cors\n",
            "Successfully installed flask-cors-5.0.0 pyngrok-7.2.1\n"
          ]
        },
        {
          "name": "stderr",
          "output_type": "stream",
          "text": [
            "WARNING:absl:Compiled the loaded model, but the compiled metrics have yet to be built. `model.compile_metrics` will be empty until you train or evaluate the model.\n",
            "WARNING:absl:Error in loading the saved optimizer state. As a result, your model is starting with a freshly initialized optimizer.\n",
            "WARNING:absl:Compiled the loaded model, but the compiled metrics have yet to be built. `model.compile_metrics` will be empty until you train or evaluate the model.\n",
            "WARNING:absl:Error in loading the saved optimizer state. As a result, your model is starting with a freshly initialized optimizer.\n",
            "WARNING:absl:Compiled the loaded model, but the compiled metrics have yet to be built. `model.compile_metrics` will be empty until you train or evaluate the model.\n",
            "WARNING:absl:Error in loading the saved optimizer state. As a result, your model is starting with a freshly initialized optimizer.\n",
            "WARNING:absl:Compiled the loaded model, but the compiled metrics have yet to be built. `model.compile_metrics` will be empty until you train or evaluate the model.\n",
            "WARNING:absl:Error in loading the saved optimizer state. As a result, your model is starting with a freshly initialized optimizer.\n"
          ]
        },
        {
          "name": "stdout",
          "output_type": "stream",
          "text": [
            "Flask app is running publicly on: NgrokTunnel: \"https://cf4f-34-133-234-111.ngrok-free.app\" -> \"http://localhost:5000\"\n",
            " * Serving Flask app '__main__'\n",
            " * Debug mode: off\n"
          ]
        },
        {
          "name": "stderr",
          "output_type": "stream",
          "text": [
            "INFO:werkzeug:\u001b[31m\u001b[1mWARNING: This is a development server. Do not use it in a production deployment. Use a production WSGI server instead.\u001b[0m\n",
            " * Running on all addresses (0.0.0.0)\n",
            " * Running on http://127.0.0.1:5000\n",
            " * Running on http://172.28.0.12:5000\n",
            "INFO:werkzeug:\u001b[33mPress CTRL+C to quit\u001b[0m\n"
          ]
        },
        {
          "name": "stdout",
          "output_type": "stream",
          "text": [
            "\u001b[1m1/1\u001b[0m \u001b[32m━━━━━━━━━━━━━━━━━━━━\u001b[0m\u001b[37m\u001b[0m \u001b[1m1s\u001b[0m 1s/step\n",
            "\u001b[1m1/1\u001b[0m \u001b[32m━━━━━━━━━━━━━━━━━━━━\u001b[0m\u001b[37m\u001b[0m \u001b[1m2s\u001b[0m 2s/step\n",
            "\u001b[1m1/1\u001b[0m \u001b[32m━━━━━━━━━━━━━━━━━━━━\u001b[0m\u001b[37m\u001b[0m \u001b[1m1s\u001b[0m 880ms/step\n",
            "\u001b[1m1/1\u001b[0m \u001b[32m━━━━━━━━━━━━━━━━━━━━\u001b[0m\u001b[37m\u001b[0m \u001b[1m3s\u001b[0m 3s/step\n"
          ]
        },
        {
          "name": "stderr",
          "output_type": "stream",
          "text": [
            "INFO:werkzeug:127.0.0.1 - - [02/Dec/2024 03:40:52] \"POST /predict HTTP/1.1\" 200 -\n"
          ]
        },
        {
          "name": "stdout",
          "output_type": "stream",
          "text": [
            "\u001b[1m1/1\u001b[0m \u001b[32m━━━━━━━━━━━━━━━━━━━━\u001b[0m\u001b[37m\u001b[0m \u001b[1m0s\u001b[0m 144ms/step\n",
            "\u001b[1m1/1\u001b[0m \u001b[32m━━━━━━━━━━━━━━━━━━━━\u001b[0m\u001b[37m\u001b[0m \u001b[1m0s\u001b[0m 341ms/step\n",
            "\u001b[1m1/1\u001b[0m \u001b[32m━━━━━━━━━━━━━━━━━━━━\u001b[0m\u001b[37m\u001b[0m \u001b[1m1s\u001b[0m 830ms/step\n",
            "\u001b[1m1/1\u001b[0m \u001b[32m━━━━━━━━━━━━━━━━━━━━\u001b[0m\u001b[37m\u001b[0m \u001b[1m0s\u001b[0m 276ms/step\n"
          ]
        },
        {
          "name": "stderr",
          "output_type": "stream",
          "text": [
            "INFO:werkzeug:127.0.0.1 - - [02/Dec/2024 04:59:22] \"POST /predict HTTP/1.1\" 200 -\n"
          ]
        },
        {
          "name": "stdout",
          "output_type": "stream",
          "text": [
            "\u001b[1m1/1\u001b[0m \u001b[32m━━━━━━━━━━━━━━━━━━━━\u001b[0m\u001b[37m\u001b[0m \u001b[1m0s\u001b[0m 80ms/step\n",
            "\u001b[1m1/1\u001b[0m \u001b[32m━━━━━━━━━━━━━━━━━━━━\u001b[0m\u001b[37m\u001b[0m \u001b[1m0s\u001b[0m 196ms/step\n",
            "\u001b[1m1/1\u001b[0m \u001b[32m━━━━━━━━━━━━━━━━━━━━\u001b[0m\u001b[37m\u001b[0m \u001b[1m1s\u001b[0m 1s/step\n",
            "\u001b[1m1/1\u001b[0m \u001b[32m━━━━━━━━━━━━━━━━━━━━\u001b[0m\u001b[37m\u001b[0m \u001b[1m0s\u001b[0m 332ms/step\n"
          ]
        },
        {
          "name": "stderr",
          "output_type": "stream",
          "text": [
            "INFO:werkzeug:127.0.0.1 - - [02/Dec/2024 05:02:17] \"POST /predict HTTP/1.1\" 200 -\n"
          ]
        }
      ],
      "source": [
        "!pip install flask flask-cors pyngrok\n",
        "\n",
        "import numpy as np\n",
        "from flask import Flask, request, jsonify\n",
        "from flask_cors import CORS\n",
        "import tensorflow as tf\n",
        "from tensorflow.keras.models import load_model\n",
        "from PIL import Image\n",
        "import io\n",
        "from pyngrok import ngrok\n",
        "\n",
        "# ngrok authtoken\n",
        "ngrok.set_auth_token('2pbss4U9a0uhMahS4lGoBeEt7ZU_35Zcip2wbNCKwbQpYKwLv')  # actual token\n",
        "\n",
        "# Loading the four trained models\n",
        "model_1 = load_model('/content/drive/MyDrive/Copy_of_retina_weights.h5')\n",
        "model_2 = load_model('/content/drive/MyDrive/best_resnet50_model.h5')\n",
        "model_3 = load_model('/content/drive/MyDrive/best_model_vgg16.h5')\n",
        "model_4 = load_model('/content/drive/MyDrive/best_model_inceptionv3.h5')\n",
        "\n",
        "# Preprocessing the image based on the required size for each model\n",
        "def preprocess_image(image_bytes, size):\n",
        "    image = Image.open(io.BytesIO(image_bytes))\n",
        "    image = image.resize(size)  # Resize to the specified size\n",
        "    image = np.array(image) / 255.0  # Normalize image\n",
        "    image = np.expand_dims(image, axis=0)  # Add batch dimension\n",
        "    return image\n",
        "\n",
        "app = Flask(__name__)\n",
        "CORS(app)  # Enable CORS to allow requests from React frontend\n",
        "\n",
        "@app.route('/predict', methods=['POST'])\n",
        "def predict():\n",
        "    try:\n",
        "        if 'image' not in request.files:\n",
        "            return jsonify({'error': 'No image provided'}), 400\n",
        "\n",
        "        image_file = request.files['image']\n",
        "        image_bytes = image_file.read()\n",
        "\n",
        "        # Preprocess the image for each model\n",
        "        input_image_model_1 = preprocess_image(image_bytes, (256, 256))  # Model 1 expects 256x256\n",
        "        input_image_model_2 = preprocess_image(image_bytes, (224, 224))  # Model 2 expects 224x224\n",
        "        input_image_model_3 = preprocess_image(image_bytes, (256, 256))  # Model 3 expects 224x224\n",
        "        input_image_model_4 = preprocess_image(image_bytes, (256, 256))  # Model 4 expects 299x299\n",
        "\n",
        "        # Make predictions using all four models\n",
        "        prediction_1 = model_1.predict(input_image_model_1)\n",
        "        prediction_2 = model_2.predict(input_image_model_2)\n",
        "        prediction_3 = model_3.predict(input_image_model_3)\n",
        "        prediction_4 = model_4.predict(input_image_model_4)\n",
        "\n",
        "        predicted_class_1 = np.argmax(prediction_1, axis=1)[0]\n",
        "        predicted_class_2 = np.argmax(prediction_2, axis=1)[0]\n",
        "        predicted_class_3 = np.argmax(prediction_3, axis=1)[0]\n",
        "        predicted_class_4 = np.argmax(prediction_4, axis=1)[0]\n",
        "\n",
        "        # Map predicted class to the actual category name\n",
        "        class_names = [\"Mild\", \"Moderate\", \"NO_DR\", \"Proliferate_DR\", \"Severe\"]\n",
        "        category_1 = class_names[predicted_class_1]\n",
        "        category_2 = class_names[predicted_class_2]\n",
        "        category_3 = class_names[predicted_class_3]\n",
        "        category_4 = class_names[predicted_class_4]\n",
        "\n",
        "        # Return predictions from all four models\n",
        "        return jsonify({\n",
        "            'prediction_model_1': category_1,\n",
        "            'prediction_model_2': category_2,\n",
        "            'prediction_model_3': category_3,\n",
        "            'prediction_model_4': category_4\n",
        "        })\n",
        "\n",
        "    except Exception as e:\n",
        "        return jsonify({'error': str(e)}), 500  # Returns the error message\n",
        "\n",
        "\n",
        "if __name__ == '__main__':\n",
        "    public_url = ngrok.connect(5000)  # Expose the Flask app on port 5000\n",
        "    print(f\"Flask app is running publicly on: {public_url}\")\n",
        "    app.run(host='0.0.0.0', port=5000)\n"
      ]
    }
  ],
  "metadata": {
    "colab": {
      "provenance": [],
      "include_colab_link": true
    },
    "kernelspec": {
      "display_name": "Python 3",
      "name": "python3"
    },
    "language_info": {
      "name": "python"
    }
  },
  "nbformat": 4,
  "nbformat_minor": 0
}